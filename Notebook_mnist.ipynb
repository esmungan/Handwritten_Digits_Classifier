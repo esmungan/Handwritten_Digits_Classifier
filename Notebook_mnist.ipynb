{
 "cells": [
  {
   "cell_type": "markdown",
   "metadata": {
    "collapsed": true
   },
   "source": [
    "## Handwritten Digits Classifier with Neural Networks\n",
    "\n",
    "   This project was originally going to be done as a part of [Deep Learning Fundamentals](https://app.dataquest.io/course/deep-learning-fundamentals) class on DataQuest but the [dataset from UCI ML repository](https://archive.ics.uci.edu/ml/datasets/Optical+Recognition+of+Handwritten+Digits) and the implementation requirements were not challenging enough, so I modified the dataset and methodology.\n",
    "   \n",
    "* **Concepts learned:** Scikit-learn library in Python and Neural Network optimization schemes\n",
    "* **Main challenges:** Performance changes with respect to the size of the data, Run-time challenges of the grid-search algorithm\n",
    "\n",
    "The aim of this project is to classify handwritten digits in the [MNIST dataset](http://yann.lecun.com/exdb/mnist/) correctly using feedforward neural networks. The data is composed of 28x28 images in gray scale with pixel values ranging from 0 to 255.For sake of simplicity, the data is retrieved from [Kaggle website](https://www.kaggle.com/c/digit-recognizer/data).\n"
   ]
  },
  {
   "cell_type": "markdown",
   "metadata": {},
   "source": [
    "## Data Exploration\n",
    "Let us familiarize ourselves with the content of the data first. "
   ]
  },
  {
   "cell_type": "code",
   "execution_count": 1,
   "metadata": {},
   "outputs": [],
   "source": [
    "from sklearn.datasets import load_digits\n",
    "import pandas as pd, numpy as np\n",
    "from IPython.display import display\n",
    "import matplotlib.pyplot as plt \n",
    "%matplotlib inline\n",
    "\n",
    "from sklearn import preprocessing\n",
    "from sklearn.neural_network import MLPClassifier\n",
    "from sklearn.model_selection import ShuffleSplit,cross_validate,GridSearchCV\n",
    "from sklearn.pipeline import make_pipeline,Pipeline\n"
   ]
  },
  {
   "cell_type": "code",
   "execution_count": 2,
   "metadata": {},
   "outputs": [
    {
     "name": "stdout",
     "output_type": "stream",
     "text": [
      "Shape of the MNIST data: (42000, 785)\n"
     ]
    },
    {
     "data": {
      "text/plain": [
       "None"
      ]
     },
     "metadata": {},
     "output_type": "display_data"
    },
    {
     "data": {
      "text/html": [
       "<div>\n",
       "<style scoped>\n",
       "    .dataframe tbody tr th:only-of-type {\n",
       "        vertical-align: middle;\n",
       "    }\n",
       "\n",
       "    .dataframe tbody tr th {\n",
       "        vertical-align: top;\n",
       "    }\n",
       "\n",
       "    .dataframe thead th {\n",
       "        text-align: right;\n",
       "    }\n",
       "</style>\n",
       "<table border=\"1\" class=\"dataframe\">\n",
       "  <thead>\n",
       "    <tr style=\"text-align: right;\">\n",
       "      <th></th>\n",
       "      <th>label</th>\n",
       "      <th>pixel0</th>\n",
       "      <th>pixel1</th>\n",
       "      <th>pixel2</th>\n",
       "      <th>pixel3</th>\n",
       "      <th>pixel4</th>\n",
       "      <th>pixel5</th>\n",
       "      <th>pixel6</th>\n",
       "      <th>pixel7</th>\n",
       "      <th>pixel8</th>\n",
       "      <th>...</th>\n",
       "      <th>pixel774</th>\n",
       "      <th>pixel775</th>\n",
       "      <th>pixel776</th>\n",
       "      <th>pixel777</th>\n",
       "      <th>pixel778</th>\n",
       "      <th>pixel779</th>\n",
       "      <th>pixel780</th>\n",
       "      <th>pixel781</th>\n",
       "      <th>pixel782</th>\n",
       "      <th>pixel783</th>\n",
       "    </tr>\n",
       "  </thead>\n",
       "  <tbody>\n",
       "    <tr>\n",
       "      <th>0</th>\n",
       "      <td>1</td>\n",
       "      <td>0</td>\n",
       "      <td>0</td>\n",
       "      <td>0</td>\n",
       "      <td>0</td>\n",
       "      <td>0</td>\n",
       "      <td>0</td>\n",
       "      <td>0</td>\n",
       "      <td>0</td>\n",
       "      <td>0</td>\n",
       "      <td>...</td>\n",
       "      <td>0</td>\n",
       "      <td>0</td>\n",
       "      <td>0</td>\n",
       "      <td>0</td>\n",
       "      <td>0</td>\n",
       "      <td>0</td>\n",
       "      <td>0</td>\n",
       "      <td>0</td>\n",
       "      <td>0</td>\n",
       "      <td>0</td>\n",
       "    </tr>\n",
       "    <tr>\n",
       "      <th>1</th>\n",
       "      <td>0</td>\n",
       "      <td>0</td>\n",
       "      <td>0</td>\n",
       "      <td>0</td>\n",
       "      <td>0</td>\n",
       "      <td>0</td>\n",
       "      <td>0</td>\n",
       "      <td>0</td>\n",
       "      <td>0</td>\n",
       "      <td>0</td>\n",
       "      <td>...</td>\n",
       "      <td>0</td>\n",
       "      <td>0</td>\n",
       "      <td>0</td>\n",
       "      <td>0</td>\n",
       "      <td>0</td>\n",
       "      <td>0</td>\n",
       "      <td>0</td>\n",
       "      <td>0</td>\n",
       "      <td>0</td>\n",
       "      <td>0</td>\n",
       "    </tr>\n",
       "    <tr>\n",
       "      <th>2</th>\n",
       "      <td>1</td>\n",
       "      <td>0</td>\n",
       "      <td>0</td>\n",
       "      <td>0</td>\n",
       "      <td>0</td>\n",
       "      <td>0</td>\n",
       "      <td>0</td>\n",
       "      <td>0</td>\n",
       "      <td>0</td>\n",
       "      <td>0</td>\n",
       "      <td>...</td>\n",
       "      <td>0</td>\n",
       "      <td>0</td>\n",
       "      <td>0</td>\n",
       "      <td>0</td>\n",
       "      <td>0</td>\n",
       "      <td>0</td>\n",
       "      <td>0</td>\n",
       "      <td>0</td>\n",
       "      <td>0</td>\n",
       "      <td>0</td>\n",
       "    </tr>\n",
       "    <tr>\n",
       "      <th>3</th>\n",
       "      <td>4</td>\n",
       "      <td>0</td>\n",
       "      <td>0</td>\n",
       "      <td>0</td>\n",
       "      <td>0</td>\n",
       "      <td>0</td>\n",
       "      <td>0</td>\n",
       "      <td>0</td>\n",
       "      <td>0</td>\n",
       "      <td>0</td>\n",
       "      <td>...</td>\n",
       "      <td>0</td>\n",
       "      <td>0</td>\n",
       "      <td>0</td>\n",
       "      <td>0</td>\n",
       "      <td>0</td>\n",
       "      <td>0</td>\n",
       "      <td>0</td>\n",
       "      <td>0</td>\n",
       "      <td>0</td>\n",
       "      <td>0</td>\n",
       "    </tr>\n",
       "    <tr>\n",
       "      <th>4</th>\n",
       "      <td>0</td>\n",
       "      <td>0</td>\n",
       "      <td>0</td>\n",
       "      <td>0</td>\n",
       "      <td>0</td>\n",
       "      <td>0</td>\n",
       "      <td>0</td>\n",
       "      <td>0</td>\n",
       "      <td>0</td>\n",
       "      <td>0</td>\n",
       "      <td>...</td>\n",
       "      <td>0</td>\n",
       "      <td>0</td>\n",
       "      <td>0</td>\n",
       "      <td>0</td>\n",
       "      <td>0</td>\n",
       "      <td>0</td>\n",
       "      <td>0</td>\n",
       "      <td>0</td>\n",
       "      <td>0</td>\n",
       "      <td>0</td>\n",
       "    </tr>\n",
       "  </tbody>\n",
       "</table>\n",
       "<p>5 rows × 785 columns</p>\n",
       "</div>"
      ],
      "text/plain": [
       "   label  pixel0  pixel1  pixel2  pixel3  pixel4  pixel5  pixel6  pixel7  \\\n",
       "0      1       0       0       0       0       0       0       0       0   \n",
       "1      0       0       0       0       0       0       0       0       0   \n",
       "2      1       0       0       0       0       0       0       0       0   \n",
       "3      4       0       0       0       0       0       0       0       0   \n",
       "4      0       0       0       0       0       0       0       0       0   \n",
       "\n",
       "   pixel8  ...  pixel774  pixel775  pixel776  pixel777  pixel778  pixel779  \\\n",
       "0       0  ...         0         0         0         0         0         0   \n",
       "1       0  ...         0         0         0         0         0         0   \n",
       "2       0  ...         0         0         0         0         0         0   \n",
       "3       0  ...         0         0         0         0         0         0   \n",
       "4       0  ...         0         0         0         0         0         0   \n",
       "\n",
       "   pixel780  pixel781  pixel782  pixel783  \n",
       "0         0         0         0         0  \n",
       "1         0         0         0         0  \n",
       "2         0         0         0         0  \n",
       "3         0         0         0         0  \n",
       "4         0         0         0         0  \n",
       "\n",
       "[5 rows x 785 columns]"
      ]
     },
     "execution_count": 2,
     "metadata": {},
     "output_type": "execute_result"
    }
   ],
   "source": [
    "whole_set = pd.read_csv('train_mnist.csv')\n",
    "display(print(\"Shape of the MNIST data:\",whole_set.shape))\n",
    "whole_set.head(5)"
   ]
  },
  {
   "cell_type": "markdown",
   "metadata": {},
   "source": [
    "Each image is flattened out in rows and has an associated label to it at the first column. There seems to be 42000 entries in the dataset. Let us seperate the label and data in this dataframe: "
   ]
  },
  {
   "cell_type": "code",
   "execution_count": 3,
   "metadata": {
    "scrolled": true
   },
   "outputs": [
    {
     "name": "stdout",
     "output_type": "stream",
     "text": [
      "Labels Counts\n"
     ]
    },
    {
     "data": {
      "text/plain": [
       "0    4132\n",
       "1    4684\n",
       "2    4177\n",
       "3    4351\n",
       "4    4072\n",
       "5    3795\n",
       "6    4137\n",
       "7    4401\n",
       "8    4063\n",
       "9    4188\n",
       "Name: label, dtype: int64"
      ]
     },
     "execution_count": 3,
     "metadata": {},
     "output_type": "execute_result"
    }
   ],
   "source": [
    "label= whole_set[\"label\"]\n",
    "print(\"Labels\",\"Counts\")\n",
    "label.value_counts(sort=False)"
   ]
  },
  {
   "cell_type": "markdown",
   "metadata": {},
   "source": [
    "We have a dataset (relatively) uniformly distributed over the classes of interest and the pixel data looks like:"
   ]
  },
  {
   "cell_type": "code",
   "execution_count": 4,
   "metadata": {},
   "outputs": [
    {
     "data": {
      "text/html": [
       "<div>\n",
       "<style scoped>\n",
       "    .dataframe tbody tr th:only-of-type {\n",
       "        vertical-align: middle;\n",
       "    }\n",
       "\n",
       "    .dataframe tbody tr th {\n",
       "        vertical-align: top;\n",
       "    }\n",
       "\n",
       "    .dataframe thead th {\n",
       "        text-align: right;\n",
       "    }\n",
       "</style>\n",
       "<table border=\"1\" class=\"dataframe\">\n",
       "  <thead>\n",
       "    <tr style=\"text-align: right;\">\n",
       "      <th></th>\n",
       "      <th>pixel0</th>\n",
       "      <th>pixel1</th>\n",
       "      <th>pixel2</th>\n",
       "      <th>pixel3</th>\n",
       "      <th>pixel4</th>\n",
       "      <th>pixel5</th>\n",
       "      <th>pixel6</th>\n",
       "      <th>pixel7</th>\n",
       "      <th>pixel8</th>\n",
       "      <th>pixel9</th>\n",
       "      <th>...</th>\n",
       "      <th>pixel774</th>\n",
       "      <th>pixel775</th>\n",
       "      <th>pixel776</th>\n",
       "      <th>pixel777</th>\n",
       "      <th>pixel778</th>\n",
       "      <th>pixel779</th>\n",
       "      <th>pixel780</th>\n",
       "      <th>pixel781</th>\n",
       "      <th>pixel782</th>\n",
       "      <th>pixel783</th>\n",
       "    </tr>\n",
       "  </thead>\n",
       "  <tbody>\n",
       "    <tr>\n",
       "      <th>0</th>\n",
       "      <td>0</td>\n",
       "      <td>0</td>\n",
       "      <td>0</td>\n",
       "      <td>0</td>\n",
       "      <td>0</td>\n",
       "      <td>0</td>\n",
       "      <td>0</td>\n",
       "      <td>0</td>\n",
       "      <td>0</td>\n",
       "      <td>0</td>\n",
       "      <td>...</td>\n",
       "      <td>0</td>\n",
       "      <td>0</td>\n",
       "      <td>0</td>\n",
       "      <td>0</td>\n",
       "      <td>0</td>\n",
       "      <td>0</td>\n",
       "      <td>0</td>\n",
       "      <td>0</td>\n",
       "      <td>0</td>\n",
       "      <td>0</td>\n",
       "    </tr>\n",
       "    <tr>\n",
       "      <th>1</th>\n",
       "      <td>0</td>\n",
       "      <td>0</td>\n",
       "      <td>0</td>\n",
       "      <td>0</td>\n",
       "      <td>0</td>\n",
       "      <td>0</td>\n",
       "      <td>0</td>\n",
       "      <td>0</td>\n",
       "      <td>0</td>\n",
       "      <td>0</td>\n",
       "      <td>...</td>\n",
       "      <td>0</td>\n",
       "      <td>0</td>\n",
       "      <td>0</td>\n",
       "      <td>0</td>\n",
       "      <td>0</td>\n",
       "      <td>0</td>\n",
       "      <td>0</td>\n",
       "      <td>0</td>\n",
       "      <td>0</td>\n",
       "      <td>0</td>\n",
       "    </tr>\n",
       "    <tr>\n",
       "      <th>2</th>\n",
       "      <td>0</td>\n",
       "      <td>0</td>\n",
       "      <td>0</td>\n",
       "      <td>0</td>\n",
       "      <td>0</td>\n",
       "      <td>0</td>\n",
       "      <td>0</td>\n",
       "      <td>0</td>\n",
       "      <td>0</td>\n",
       "      <td>0</td>\n",
       "      <td>...</td>\n",
       "      <td>0</td>\n",
       "      <td>0</td>\n",
       "      <td>0</td>\n",
       "      <td>0</td>\n",
       "      <td>0</td>\n",
       "      <td>0</td>\n",
       "      <td>0</td>\n",
       "      <td>0</td>\n",
       "      <td>0</td>\n",
       "      <td>0</td>\n",
       "    </tr>\n",
       "    <tr>\n",
       "      <th>3</th>\n",
       "      <td>0</td>\n",
       "      <td>0</td>\n",
       "      <td>0</td>\n",
       "      <td>0</td>\n",
       "      <td>0</td>\n",
       "      <td>0</td>\n",
       "      <td>0</td>\n",
       "      <td>0</td>\n",
       "      <td>0</td>\n",
       "      <td>0</td>\n",
       "      <td>...</td>\n",
       "      <td>0</td>\n",
       "      <td>0</td>\n",
       "      <td>0</td>\n",
       "      <td>0</td>\n",
       "      <td>0</td>\n",
       "      <td>0</td>\n",
       "      <td>0</td>\n",
       "      <td>0</td>\n",
       "      <td>0</td>\n",
       "      <td>0</td>\n",
       "    </tr>\n",
       "    <tr>\n",
       "      <th>4</th>\n",
       "      <td>0</td>\n",
       "      <td>0</td>\n",
       "      <td>0</td>\n",
       "      <td>0</td>\n",
       "      <td>0</td>\n",
       "      <td>0</td>\n",
       "      <td>0</td>\n",
       "      <td>0</td>\n",
       "      <td>0</td>\n",
       "      <td>0</td>\n",
       "      <td>...</td>\n",
       "      <td>0</td>\n",
       "      <td>0</td>\n",
       "      <td>0</td>\n",
       "      <td>0</td>\n",
       "      <td>0</td>\n",
       "      <td>0</td>\n",
       "      <td>0</td>\n",
       "      <td>0</td>\n",
       "      <td>0</td>\n",
       "      <td>0</td>\n",
       "    </tr>\n",
       "  </tbody>\n",
       "</table>\n",
       "<p>5 rows × 784 columns</p>\n",
       "</div>"
      ],
      "text/plain": [
       "   pixel0  pixel1  pixel2  pixel3  pixel4  pixel5  pixel6  pixel7  pixel8  \\\n",
       "0       0       0       0       0       0       0       0       0       0   \n",
       "1       0       0       0       0       0       0       0       0       0   \n",
       "2       0       0       0       0       0       0       0       0       0   \n",
       "3       0       0       0       0       0       0       0       0       0   \n",
       "4       0       0       0       0       0       0       0       0       0   \n",
       "\n",
       "   pixel9  ...  pixel774  pixel775  pixel776  pixel777  pixel778  pixel779  \\\n",
       "0       0  ...         0         0         0         0         0         0   \n",
       "1       0  ...         0         0         0         0         0         0   \n",
       "2       0  ...         0         0         0         0         0         0   \n",
       "3       0  ...         0         0         0         0         0         0   \n",
       "4       0  ...         0         0         0         0         0         0   \n",
       "\n",
       "   pixel780  pixel781  pixel782  pixel783  \n",
       "0         0         0         0         0  \n",
       "1         0         0         0         0  \n",
       "2         0         0         0         0  \n",
       "3         0         0         0         0  \n",
       "4         0         0         0         0  \n",
       "\n",
       "[5 rows x 784 columns]"
      ]
     },
     "execution_count": 4,
     "metadata": {},
     "output_type": "execute_result"
    }
   ],
   "source": [
    "data = whole_set.iloc[:,1:]\n",
    "data.head(5)"
   ]
  },
  {
   "cell_type": "markdown",
   "metadata": {},
   "source": [
    "Let us check what the images look like:"
   ]
  },
  {
   "cell_type": "code",
   "execution_count": 5,
   "metadata": {},
   "outputs": [
    {
     "data": {
      "image/png": "[encoded data removed]",
      "text/plain": [
       "<Figure size 432x288 with 5 Axes>"
      ]
     },
     "metadata": {},
     "output_type": "display_data"
    }
   ],
   "source": [
    "indices = np.arange(0,5)\n",
    "fig, ax = plt.subplots(1,len(indices))\n",
    "\n",
    "for i in indices:\n",
    "    pic = np.array(data.iloc[i]).reshape(28,28)\n",
    "    ax[i].tick_params(bottom=False,left=False,\n",
    "                      labelbottom=False,labelleft=False) \n",
    "    ax[i].imshow(pic, cmap=\"gray_r\")\n",
    "    ax[i].set_title(\"image \"+str(i))\n",
    "    \n",
    "plt.show()"
   ]
  },
  {
   "cell_type": "markdown",
   "metadata": {},
   "source": [
    "## Model Setup\n",
    "\n",
    "It is time to set aside a piece of our data to check our final model on after we are done with optimizing it."
   ]
  },
  {
   "cell_type": "code",
   "execution_count": 6,
   "metadata": {},
   "outputs": [
    {
     "name": "stdout",
     "output_type": "stream",
     "text": [
      "Shape of the data for cross-validation:  (33600, 784)\n",
      "Shape of the held-out data:  (8400, 784)\n"
     ]
    }
   ],
   "source": [
    "from sklearn.model_selection import train_test_split\n",
    "\n",
    "cv_data, held_out_data, cv_label, held_out_label = train_test_split(data,label,test_size = 0.2,random_state=42)\n",
    "print(\"Shape of the data for cross-validation: \",cv_data.shape)\n",
    "print(\"Shape of the held-out data: \",held_out_data.shape)\n"
   ]
  },
  {
   "cell_type": "markdown",
   "metadata": {},
   "source": [
    "Now, let us create the model and write down the helper functions to read the results:"
   ]
  },
  {
   "cell_type": "code",
   "execution_count": 7,
   "metadata": {},
   "outputs": [],
   "source": [
    "def cv_pipe (nn_struc,data, label,n_fold):\n",
    "\n",
    "    mlpc_pipe =MLPClassifier(hidden_layer_sizes = nn_struc,\n",
    "                            activation = 'relu',\n",
    "                            solver = 'adam'\n",
    "                            #,max_iter = 1e3\n",
    "                           )\n",
    "    cv_type_pipe = ShuffleSplit(n_splits=n_fold, test_size=0.25, random_state=42)\n",
    "\n",
    "    std_scaler = preprocessing.StandardScaler()\n",
    "\n",
    "    pl = make_pipeline(std_scaler,mlpc_pipe)\n",
    "    scores  = cross_validate(pl, \n",
    "                             data, label, \n",
    "                             cv = cv_type_pipe, \n",
    "                             return_train_score = True\n",
    "                           )\n",
    "    return scores\n",
    "\n",
    "def read_scores(score_dict):\n",
    "    for key in score_dict.keys():\n",
    "        print(key,'\\t',score_dict[key])\n",
    "        \n",
    "def train_vs_test_scores(n_node, score_dict):\n",
    "    print(\"%i \\t %.4f \\t %.4f \\t %.4f \\t %.4f \\t %.2f\" \n",
    "      %(n_node, \n",
    "        score_dict[\"test_score\"].mean(),score_dict[\"test_score\"].std(),\n",
    "        score_dict[\"train_score\"].mean(),score_dict[\"train_score\"].std(),\n",
    "        score_dict[\"fit_time\"].mean()\n",
    "       )         \n",
    "     )"
   ]
  },
  {
   "cell_type": "markdown",
   "metadata": {},
   "source": [
    "**Lesson learned:** As you can see, the model is created in a pipeline and is following a pre-procesing step of standardization. When I initially attempted creating the model I naively fed the data into the neural network only to see it was taking forever to converge. This was mainly because the initial dataset I used was small and the images were compressed. Once the MNIST data is scaled, the model fit significantly fast and hence I created a pipeline for the cross-validation. Of course, this is a very simple way of preprocessing images but for now, I'll stick with it.\n",
    "\n",
    "## Hyper Parameter Tuning\n",
    "\n",
    "As the next step I will try to manually optimize a one-layer neural network and see how the network is doing before we dive into the grid-search based hyper parameter optimization."
   ]
  },
  {
   "cell_type": "code",
   "execution_count": 8,
   "metadata": {},
   "outputs": [
    {
     "name": "stdout",
     "output_type": "stream",
     "text": [
      "n_node \t test_avg \t test_sigma \t train_avg \t train_sigma \t fit_time_avg(s)\n",
      "15 \t 0.9184 \t 0.0049 \t 0.9999 \t 0.0001 \t 73.20\n",
      "20 \t 0.9371 \t 0.0005 \t 1.0000 \t 0.0000 \t 42.28\n",
      "25 \t 0.9450 \t 0.0012 \t 0.9974 \t 0.0036 \t 36.22\n",
      "30 \t 0.9501 \t 0.0010 \t 1.0000 \t 0.0000 \t 33.32\n",
      "35 \t 0.9526 \t 0.0010 \t 1.0000 \t 0.0000 \t 33.51\n",
      "40 \t 0.9555 \t 0.0013 \t 1.0000 \t 0.0000 \t 30.05\n"
     ]
    }
   ],
   "source": [
    "print (\"n_node \\t test_avg \\t test_sigma \\t train_avg \\t train_sigma \\t fit_time_avg(s)\")\n",
    "\n",
    "train_scores_all = []\n",
    "test_scores_all  = []\n",
    "train_fit_times  = []\n",
    "\n",
    "n_nodes = np.arange(15,41,5)\n",
    "\n",
    "for n_node in n_nodes:\n",
    "    score_n = cv_pipe ((n_node,),cv_data, cv_label,3)\n",
    "    train_scores_all.append(score_n[\"train_score\"])\n",
    "    test_scores_all.append(score_n[\"test_score\"])\n",
    "    train_fit_times.append(score_n[\"fit_time\"])\n",
    "    train_vs_test_scores(n_node, score_n)\n"
   ]
  },
  {
   "cell_type": "code",
   "execution_count": 9,
   "metadata": {},
   "outputs": [
    {
     "data": {
      "image/png": "[encoded data removed]",
      "text/plain": [
       "<Figure size 648x360 with 1 Axes>"
      ]
     },
     "metadata": {
      "needs_background": "light"
     },
     "output_type": "display_data"
    }
   ],
   "source": [
    "fig = plt.figure(figsize=(9, 5))\n",
    "ax  = fig.add_subplot(111)\n",
    "\n",
    "plot_train = ax.boxplot(train_scores_all,patch_artist=True)\n",
    "plot_test  = ax.boxplot(test_scores_all,patch_artist=True)\n",
    "\n",
    "plt.setp(plot_train['boxes'], facecolor='cyan')\n",
    "plt.setp(plot_train['whiskers'], color='black')\n",
    "plt.setp(plot_train['fliers'], color='red', marker='+')\n",
    "for median in plot_train['medians']:  median.set(color='blue', linewidth=2)\n",
    "\n",
    "plt.setp(plot_test['boxes'], facecolor='yellow')\n",
    "for median in plot_test['medians']:  median.set(color='red', linewidth=2)\n",
    "\n",
    "fig.text(0.95, 0.8, 'Training Scores', backgroundcolor='cyan', color='blue', weight='roman',size='large')\n",
    "fig.text(0.95, 0.72, 'Test Scores', backgroundcolor='yellow', color='red', weight='roman',size='large')\n",
    "\n",
    "ax.set_xlabel('Number of Nodes in Hidden Layer',fontsize = 10)\n",
    "ax.set_ylabel('Score',fontsize = 10)\n",
    "\n",
    "x_axis=[]\n",
    "for n in n_nodes: x_axis.append(str(n))\n",
    "ax.set_xticklabels(x_axis, fontsize = 10)\n",
    "\n",
    "plt.show()"
   ]
  },
  {
   "cell_type": "markdown",
   "metadata": {},
   "source": [
    "As it can be seen from the table above, the accuracy of the tests are really high even for the smallest single layer neural network and the accuracy saturates around 30 nodes. On the other hand, the training accuracy is ~100% from the start.\n",
    "\n",
    "Now, let us do the optimization in a more automated way using Grid Search and look into a two layer neural network as well:"
   ]
  },
  {
   "cell_type": "code",
   "execution_count": 10,
   "metadata": {},
   "outputs": [],
   "source": [
    "mlpc_grid    = MLPClassifier(solver = 'adam')\n",
    "cv_type_grid = ShuffleSplit(n_splits= 5, test_size=0.25, random_state=42)\n",
    "std_scaler   = preprocessing.StandardScaler()\n",
    "pl_grid      = Pipeline(steps=[('std_scaler', std_scaler), ('mlpc_grid', mlpc_grid)])\n",
    "\n",
    "hyper_params = {\n",
    "    'mlpc_grid__hidden_layer_sizes': [(20,),(40,),(80,),(20,20),(40,40),(80,80)]\n",
    "    ,'mlpc_grid__activation': ['tanh', 'relu'],\n",
    "}\n",
    "\n",
    "gridCV = GridSearchCV(pl_grid, hyper_params, n_jobs=-1, cv=cv_type_grid, return_train_score = True)\n",
    "gridCV.fit(cv_data, cv_label)\n",
    "\n",
    "test_means  = gridCV.cv_results_['mean_test_score']\n",
    "test_stds   = gridCV.cv_results_['std_test_score']\n",
    "fit_times   = gridCV.cv_results_['mean_fit_time']\n",
    "params      = gridCV.cv_results_['params']"
   ]
  },
  {
   "cell_type": "code",
   "execution_count": 11,
   "metadata": {
    "scrolled": true
   },
   "outputs": [
    {
     "name": "stdout",
     "output_type": "stream",
     "text": [
      "Test_mean  Test_sigma  Fit_time_mean(s)  Parameters\n",
      "0.9109      0.004       141.42          {'mlpc_grid__activation': 'tanh', 'mlpc_grid__hidden_layer_sizes': (20,)}\n",
      "0.9345      0.002       90.85           {'mlpc_grid__activation': 'tanh', 'mlpc_grid__hidden_layer_sizes': (40,)}\n",
      "0.9489      0.003       93.37           {'mlpc_grid__activation': 'tanh', 'mlpc_grid__hidden_layer_sizes': (80,)}\n",
      "0.9162      0.004       110.05          {'mlpc_grid__activation': 'tanh', 'mlpc_grid__hidden_layer_sizes': (20, 20)}\n",
      "0.9402      0.002       69.38           {'mlpc_grid__activation': 'tanh', 'mlpc_grid__hidden_layer_sizes': (40, 40)}\n",
      "0.9525      0.002       75.32           {'mlpc_grid__activation': 'tanh', 'mlpc_grid__hidden_layer_sizes': (80, 80)}\n",
      "0.9367      0.002       90.20           {'mlpc_grid__activation': 'relu', 'mlpc_grid__hidden_layer_sizes': (20,)}\n",
      "0.9541      0.002       67.02           {'mlpc_grid__activation': 'relu', 'mlpc_grid__hidden_layer_sizes': (40,)}\n",
      "0.9611      0.001       82.02           {'mlpc_grid__activation': 'relu', 'mlpc_grid__hidden_layer_sizes': (80,)}\n",
      "0.9371      0.003       79.00           {'mlpc_grid__activation': 'relu', 'mlpc_grid__hidden_layer_sizes': (20, 20)}\n",
      "0.9554      0.002       58.05           {'mlpc_grid__activation': 'relu', 'mlpc_grid__hidden_layer_sizes': (40, 40)}\n",
      "0.9621      0.002       55.38           {'mlpc_grid__activation': 'relu', 'mlpc_grid__hidden_layer_sizes': (80, 80)}\n",
      "\n",
      "Best model: {'mlpc_grid__activation': 'relu', 'mlpc_grid__hidden_layer_sizes': (80, 80)}\n"
     ]
    }
   ],
   "source": [
    "print(\"Test_mean  Test_sigma  Fit_time_mean(s)  Parameters\")\n",
    "\n",
    "for test_mean, test_std,fit_time, param in zip(test_means, test_stds, fit_times, params):\n",
    "    print(\"%-11.4f %-11.3f %-15.2f %-11r\" %(test_mean, test_std, fit_time, param))\n",
    "\n",
    "print('\\nBest model:', gridCV.best_params_)"
   ]
  },
  {
   "cell_type": "markdown",
   "metadata": {},
   "source": [
    "The grid search results indicate: \n",
    " * \"relu\" is performning slightly better than \"tanh\" as an activation function. \n",
    " * accuracy of the NN is not improving much after 40 nodes, independent of number of layers in the model\n",
    " * run_time is decreasing significantly for multi-layer networks\n",
    " \n",
    "To finalize our model, let us test the best model we encountered during grid search on the held out data:"
   ]
  },
  {
   "cell_type": "code",
   "execution_count": 13,
   "metadata": {},
   "outputs": [
    {
     "name": "stdout",
     "output_type": "stream",
     "text": [
      "Score on held-out data: 0.97\n"
     ]
    }
   ],
   "source": [
    "final_mlpc= gridCV.best_estimator_\n",
    "final_score = final_mlpc.score(held_out_data,held_out_label)\n",
    "print(\"Score on held-out data: %.2f\" %final_score)"
   ]
  },
  {
   "cell_type": "markdown",
   "metadata": {},
   "source": [
    "The results on the held-out data looks rather good, indicating that our model generalizes pretty well."
   ]
  }
 ],
 "metadata": {
  "anaconda-cloud": {},
  "kernelspec": {
   "display_name": "Python 3",
   "language": "python",
   "name": "python3"
  },
  "language_info": {
   "codemirror_mode": {
    "name": "ipython",
    "version": 3
   },
   "file_extension": ".py",
   "mimetype": "text/x-python",
   "name": "python",
   "nbconvert_exporter": "python",
   "pygments_lexer": "ipython3",
   "version": "3.7.3"
  }
 },
 "nbformat": 4,
 "nbformat_minor": 2
}
